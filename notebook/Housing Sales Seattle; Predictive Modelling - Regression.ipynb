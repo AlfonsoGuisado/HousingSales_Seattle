{
 "cells": [
  {
   "cell_type": "markdown",
   "id": "2d2b704b-eff1-438d-b142-a8e75e3ac4a7",
   "metadata": {},
   "source": [
    "# Venta de Viviendas en Seattle; Modelización Predicitiva - Regresión Lineal."
   ]
  },
  {
   "cell_type": "markdown",
   "id": "1ea6cf1f",
   "metadata": {},
   "source": [
    "## Introducción\n",
    "\n",
    "Se hará uso de un modelo de regresión lineal por ser una técnica tradicional, simple y adecuado para problemas de predicción de variables continuas. Dado que el dataset es sencillo y presenta una estructura limpia y relaciones aproximadamente lineales entre algunas variables independientes y la variable objetivo que posteriormente veremos, este modelo resulta adecuado como punto de partida por su simplicidad, rapidez de entrenamiento y utilidad como línea base comparativa frente a modelos más complejos."
   ]
  },
  {
   "cell_type": "markdown",
   "id": "dd4bb2fa",
   "metadata": {},
   "source": [
    "## Modelo de Regresión Lineal"
   ]
  },
  {
   "cell_type": "markdown",
   "id": "c862299e-6086-4fe8-9b4e-1600dbf689e3",
   "metadata": {},
   "source": [
    "Importamos y cargamos las librerías necesarias para trabajar."
   ]
  },
  {
   "cell_type": "code",
   "execution_count": 1,
   "id": "48e78dd8-e89e-4e15-a0c1-4d3569a472df",
   "metadata": {},
   "outputs": [],
   "source": [
    "# Procesamiento y visualizacion de datos.\n",
    "import pandas as pd\n",
    "import numpy as np\n",
    "import seaborn as sns\n",
    "import matplotlib.pyplot as plt\n",
    "\n",
    "# Modelado\n",
    "from sklearn.preprocessing import StandardScaler\n",
    "from sklearn.preprocessing import LabelEncoder\n",
    "from sklearn.model_selection import train_test_split\n",
    "from sklearn.linear_model import LinearRegression\n",
    "from sklearn.metrics import mean_squared_error, r2_score\n",
    "from sklearn.model_selection import cross_val_score\n",
    "from sklearn.model_selection import RepeatedKFold\n",
    "from relativeImp import relativeImp"
   ]
  },
  {
   "cell_type": "markdown",
   "id": "28d9abb5",
   "metadata": {},
   "source": [
    "Leemos el archivo .csv guardado con el dataset depurado."
   ]
  },
  {
   "cell_type": "code",
   "execution_count": 2,
   "id": "1c7d3644-3aaf-4b2f-9d04-9db60874c3ff",
   "metadata": {},
   "outputs": [],
   "source": [
    "df = pd.read_csv('C:/Users/jeje9/Projects/Housing Sales Seattle/data/freeze_data/df_imputed_trf.csv')"
   ]
  },
  {
   "cell_type": "code",
   "execution_count": 3,
   "id": "fff2fd5e",
   "metadata": {},
   "outputs": [
    {
     "data": {
      "text/html": [
       "<div>\n",
       "<style scoped>\n",
       "    .dataframe tbody tr th:only-of-type {\n",
       "        vertical-align: middle;\n",
       "    }\n",
       "\n",
       "    .dataframe tbody tr th {\n",
       "        vertical-align: top;\n",
       "    }\n",
       "\n",
       "    .dataframe thead th {\n",
       "        text-align: right;\n",
       "    }\n",
       "</style>\n",
       "<table border=\"1\" class=\"dataframe\">\n",
       "  <thead>\n",
       "    <tr style=\"text-align: right;\">\n",
       "      <th></th>\n",
       "      <th>quarter</th>\n",
       "      <th>Luxury</th>\n",
       "      <th>floors</th>\n",
       "      <th>bedrooms</th>\n",
       "      <th>bathrooms</th>\n",
       "      <th>basement</th>\n",
       "      <th>view</th>\n",
       "      <th>waterfront</th>\n",
       "      <th>condition</th>\n",
       "      <th>sqft_lot</th>\n",
       "      <th>sqft_living</th>\n",
       "      <th>sqft_above</th>\n",
       "      <th>yr_built</th>\n",
       "      <th>renovated</th>\n",
       "      <th>lat</th>\n",
       "      <th>long</th>\n",
       "      <th>price</th>\n",
       "    </tr>\n",
       "  </thead>\n",
       "  <tbody>\n",
       "    <tr>\n",
       "      <th>0</th>\n",
       "      <td>2</td>\n",
       "      <td>1</td>\n",
       "      <td>1</td>\n",
       "      <td>Menor o igual a 5</td>\n",
       "      <td>Mayor a 2</td>\n",
       "      <td>1</td>\n",
       "      <td>0</td>\n",
       "      <td>0</td>\n",
       "      <td>C</td>\n",
       "      <td>9.443355</td>\n",
       "      <td>45.497253</td>\n",
       "      <td>39.242834</td>\n",
       "      <td>(-inf, 1994.50)</td>\n",
       "      <td>0</td>\n",
       "      <td>47.5936</td>\n",
       "      <td>-122.013</td>\n",
       "      <td>3.938989</td>\n",
       "    </tr>\n",
       "    <tr>\n",
       "      <th>1</th>\n",
       "      <td>2</td>\n",
       "      <td>1</td>\n",
       "      <td>1</td>\n",
       "      <td>Menor o igual a 5</td>\n",
       "      <td>Menor o igual a 2</td>\n",
       "      <td>1</td>\n",
       "      <td>0</td>\n",
       "      <td>0</td>\n",
       "      <td>A</td>\n",
       "      <td>8.316642</td>\n",
       "      <td>40.496913</td>\n",
       "      <td>39.242834</td>\n",
       "      <td>(-inf, 1994.50)</td>\n",
       "      <td>0</td>\n",
       "      <td>47.6624</td>\n",
       "      <td>-122.325</td>\n",
       "      <td>3.942111</td>\n",
       "    </tr>\n",
       "    <tr>\n",
       "      <th>2</th>\n",
       "      <td>3</td>\n",
       "      <td>1</td>\n",
       "      <td>1</td>\n",
       "      <td>Menor o igual a 5</td>\n",
       "      <td>Mayor a 2</td>\n",
       "      <td>0</td>\n",
       "      <td>1</td>\n",
       "      <td>0</td>\n",
       "      <td>B</td>\n",
       "      <td>9.038579</td>\n",
       "      <td>60.991803</td>\n",
       "      <td>60.991803</td>\n",
       "      <td>[1994.50, 2009.50)</td>\n",
       "      <td>0</td>\n",
       "      <td>47.3216</td>\n",
       "      <td>-121.940</td>\n",
       "      <td>3.945572</td>\n",
       "    </tr>\n",
       "    <tr>\n",
       "      <th>3</th>\n",
       "      <td>3</td>\n",
       "      <td>1</td>\n",
       "      <td>2</td>\n",
       "      <td>Menor o igual a 5</td>\n",
       "      <td>Mayor a 2</td>\n",
       "      <td>1</td>\n",
       "      <td>0</td>\n",
       "      <td>0</td>\n",
       "      <td>B</td>\n",
       "      <td>8.313803</td>\n",
       "      <td>47.539457</td>\n",
       "      <td>43.358967</td>\n",
       "      <td>[1994.50, 2009.50)</td>\n",
       "      <td>0</td>\n",
       "      <td>47.6422</td>\n",
       "      <td>-122.361</td>\n",
       "      <td>3.946264</td>\n",
       "    </tr>\n",
       "    <tr>\n",
       "      <th>4</th>\n",
       "      <td>3</td>\n",
       "      <td>0</td>\n",
       "      <td>1</td>\n",
       "      <td>Menor o igual a 5</td>\n",
       "      <td>Menor o igual a 2</td>\n",
       "      <td>1</td>\n",
       "      <td>0</td>\n",
       "      <td>0</td>\n",
       "      <td>A</td>\n",
       "      <td>9.090768</td>\n",
       "      <td>45.276926</td>\n",
       "      <td>34.205263</td>\n",
       "      <td>(-inf, 1994.50)</td>\n",
       "      <td>0</td>\n",
       "      <td>47.7447</td>\n",
       "      <td>-122.328</td>\n",
       "      <td>3.919169</td>\n",
       "    </tr>\n",
       "    <tr>\n",
       "      <th>...</th>\n",
       "      <td>...</td>\n",
       "      <td>...</td>\n",
       "      <td>...</td>\n",
       "      <td>...</td>\n",
       "      <td>...</td>\n",
       "      <td>...</td>\n",
       "      <td>...</td>\n",
       "      <td>...</td>\n",
       "      <td>...</td>\n",
       "      <td>...</td>\n",
       "      <td>...</td>\n",
       "      <td>...</td>\n",
       "      <td>...</td>\n",
       "      <td>...</td>\n",
       "      <td>...</td>\n",
       "      <td>...</td>\n",
       "      <td>...</td>\n",
       "    </tr>\n",
       "    <tr>\n",
       "      <th>4995</th>\n",
       "      <td>1</td>\n",
       "      <td>0</td>\n",
       "      <td>2</td>\n",
       "      <td>Menor o igual a 5</td>\n",
       "      <td>Mayor a 2</td>\n",
       "      <td>1</td>\n",
       "      <td>0</td>\n",
       "      <td>0</td>\n",
       "      <td>B</td>\n",
       "      <td>7.507141</td>\n",
       "      <td>37.282704</td>\n",
       "      <td>34.351128</td>\n",
       "      <td>[1994.50, 2009.50)</td>\n",
       "      <td>0</td>\n",
       "      <td>47.5537</td>\n",
       "      <td>-122.282</td>\n",
       "      <td>3.915803</td>\n",
       "    </tr>\n",
       "    <tr>\n",
       "      <th>4996</th>\n",
       "      <td>1</td>\n",
       "      <td>0</td>\n",
       "      <td>1</td>\n",
       "      <td>Menor o igual a 5</td>\n",
       "      <td>Menor o igual a 2</td>\n",
       "      <td>0</td>\n",
       "      <td>0</td>\n",
       "      <td>0</td>\n",
       "      <td>B</td>\n",
       "      <td>9.006999</td>\n",
       "      <td>40.743098</td>\n",
       "      <td>40.743098</td>\n",
       "      <td>(-inf, 1994.50)</td>\n",
       "      <td>0</td>\n",
       "      <td>47.4483</td>\n",
       "      <td>-122.129</td>\n",
       "      <td>3.916382</td>\n",
       "    </tr>\n",
       "    <tr>\n",
       "      <th>4997</th>\n",
       "      <td>1</td>\n",
       "      <td>0</td>\n",
       "      <td>1</td>\n",
       "      <td>Menor o igual a 5</td>\n",
       "      <td>Menor o igual a 2</td>\n",
       "      <td>0</td>\n",
       "      <td>0</td>\n",
       "      <td>0</td>\n",
       "      <td>C</td>\n",
       "      <td>9.044876</td>\n",
       "      <td>38.470768</td>\n",
       "      <td>38.470768</td>\n",
       "      <td>(-inf, 1994.50)</td>\n",
       "      <td>0</td>\n",
       "      <td>47.3126</td>\n",
       "      <td>-122.361</td>\n",
       "      <td>3.894635</td>\n",
       "    </tr>\n",
       "    <tr>\n",
       "      <th>4998</th>\n",
       "      <td>1</td>\n",
       "      <td>0</td>\n",
       "      <td>1</td>\n",
       "      <td>Menor o igual a 5</td>\n",
       "      <td>Mayor a 2</td>\n",
       "      <td>1</td>\n",
       "      <td>0</td>\n",
       "      <td>0</td>\n",
       "      <td>B</td>\n",
       "      <td>9.846917</td>\n",
       "      <td>50.398413</td>\n",
       "      <td>39.749214</td>\n",
       "      <td>(-inf, 1994.50)</td>\n",
       "      <td>0</td>\n",
       "      <td>47.7540</td>\n",
       "      <td>-122.144</td>\n",
       "      <td>3.926384</td>\n",
       "    </tr>\n",
       "    <tr>\n",
       "      <th>4999</th>\n",
       "      <td>1</td>\n",
       "      <td>1</td>\n",
       "      <td>1</td>\n",
       "      <td>Menor o igual a 5</td>\n",
       "      <td>Menor o igual a 2</td>\n",
       "      <td>0</td>\n",
       "      <td>0</td>\n",
       "      <td>0</td>\n",
       "      <td>C</td>\n",
       "      <td>9.047821</td>\n",
       "      <td>36.331804</td>\n",
       "      <td>36.331804</td>\n",
       "      <td>(-inf, 1994.50)</td>\n",
       "      <td>0</td>\n",
       "      <td>47.6187</td>\n",
       "      <td>-122.226</td>\n",
       "      <td>3.952117</td>\n",
       "    </tr>\n",
       "  </tbody>\n",
       "</table>\n",
       "<p>5000 rows × 17 columns</p>\n",
       "</div>"
      ],
      "text/plain": [
       "      quarter  Luxury  floors           bedrooms          bathrooms  basement  \\\n",
       "0           2       1       1  Menor o igual a 5          Mayor a 2         1   \n",
       "1           2       1       1  Menor o igual a 5  Menor o igual a 2         1   \n",
       "2           3       1       1  Menor o igual a 5          Mayor a 2         0   \n",
       "3           3       1       2  Menor o igual a 5          Mayor a 2         1   \n",
       "4           3       0       1  Menor o igual a 5  Menor o igual a 2         1   \n",
       "...       ...     ...     ...                ...                ...       ...   \n",
       "4995        1       0       2  Menor o igual a 5          Mayor a 2         1   \n",
       "4996        1       0       1  Menor o igual a 5  Menor o igual a 2         0   \n",
       "4997        1       0       1  Menor o igual a 5  Menor o igual a 2         0   \n",
       "4998        1       0       1  Menor o igual a 5          Mayor a 2         1   \n",
       "4999        1       1       1  Menor o igual a 5  Menor o igual a 2         0   \n",
       "\n",
       "      view  waterfront condition  sqft_lot  sqft_living  sqft_above  \\\n",
       "0        0           0         C  9.443355    45.497253   39.242834   \n",
       "1        0           0         A  8.316642    40.496913   39.242834   \n",
       "2        1           0         B  9.038579    60.991803   60.991803   \n",
       "3        0           0         B  8.313803    47.539457   43.358967   \n",
       "4        0           0         A  9.090768    45.276926   34.205263   \n",
       "...    ...         ...       ...       ...          ...         ...   \n",
       "4995     0           0         B  7.507141    37.282704   34.351128   \n",
       "4996     0           0         B  9.006999    40.743098   40.743098   \n",
       "4997     0           0         C  9.044876    38.470768   38.470768   \n",
       "4998     0           0         B  9.846917    50.398413   39.749214   \n",
       "4999     0           0         C  9.047821    36.331804   36.331804   \n",
       "\n",
       "                yr_built  renovated      lat     long     price  \n",
       "0        (-inf, 1994.50)          0  47.5936 -122.013  3.938989  \n",
       "1        (-inf, 1994.50)          0  47.6624 -122.325  3.942111  \n",
       "2     [1994.50, 2009.50)          0  47.3216 -121.940  3.945572  \n",
       "3     [1994.50, 2009.50)          0  47.6422 -122.361  3.946264  \n",
       "4        (-inf, 1994.50)          0  47.7447 -122.328  3.919169  \n",
       "...                  ...        ...      ...      ...       ...  \n",
       "4995  [1994.50, 2009.50)          0  47.5537 -122.282  3.915803  \n",
       "4996     (-inf, 1994.50)          0  47.4483 -122.129  3.916382  \n",
       "4997     (-inf, 1994.50)          0  47.3126 -122.361  3.894635  \n",
       "4998     (-inf, 1994.50)          0  47.7540 -122.144  3.926384  \n",
       "4999     (-inf, 1994.50)          0  47.6187 -122.226  3.952117  \n",
       "\n",
       "[5000 rows x 17 columns]"
      ]
     },
     "execution_count": 3,
     "metadata": {},
     "output_type": "execute_result"
    }
   ],
   "source": [
    "df"
   ]
  },
  {
   "cell_type": "code",
   "execution_count": 4,
   "id": "bf9045fd",
   "metadata": {},
   "outputs": [
    {
     "name": "stdout",
     "output_type": "stream",
     "text": [
      "<class 'pandas.core.frame.DataFrame'>\n",
      "RangeIndex: 5000 entries, 0 to 4999\n",
      "Data columns (total 17 columns):\n",
      " #   Column       Non-Null Count  Dtype  \n",
      "---  ------       --------------  -----  \n",
      " 0   quarter      5000 non-null   int64  \n",
      " 1   Luxury       5000 non-null   int64  \n",
      " 2   floors       5000 non-null   int64  \n",
      " 3   bedrooms     5000 non-null   object \n",
      " 4   bathrooms    5000 non-null   object \n",
      " 5   basement     5000 non-null   int64  \n",
      " 6   view         5000 non-null   int64  \n",
      " 7   waterfront   5000 non-null   int64  \n",
      " 8   condition    5000 non-null   object \n",
      " 9   sqft_lot     5000 non-null   float64\n",
      " 10  sqft_living  5000 non-null   float64\n",
      " 11  sqft_above   5000 non-null   float64\n",
      " 12  yr_built     5000 non-null   object \n",
      " 13  renovated    5000 non-null   int64  \n",
      " 14  lat          5000 non-null   float64\n",
      " 15  long         5000 non-null   float64\n",
      " 16  price        5000 non-null   float64\n",
      "dtypes: float64(6), int64(7), object(4)\n",
      "memory usage: 664.2+ KB\n"
     ]
    }
   ],
   "source": [
    "df.info()"
   ]
  },
  {
   "cell_type": "code",
   "execution_count": 5,
   "id": "9c17054b",
   "metadata": {},
   "outputs": [
    {
     "data": {
      "text/plain": [
       "quarter           3\n",
       "Luxury            2\n",
       "floors            3\n",
       "bedrooms          2\n",
       "bathrooms         2\n",
       "basement          2\n",
       "view              2\n",
       "waterfront        2\n",
       "condition         3\n",
       "sqft_lot       3138\n",
       "sqft_living     557\n",
       "sqft_above      516\n",
       "yr_built          3\n",
       "renovated         2\n",
       "lat            2985\n",
       "long            602\n",
       "price          1709\n",
       "dtype: int64"
      ]
     },
     "execution_count": 5,
     "metadata": {},
     "output_type": "execute_result"
    }
   ],
   "source": [
    "df.nunique()"
   ]
  },
  {
   "cell_type": "markdown",
   "id": "8163b020",
   "metadata": {},
   "source": [
    "Hagamos unos pequeños ajustes en la tipología de las variables. Algunas se podrían dejar como object, pero por unificar..."
   ]
  },
  {
   "cell_type": "code",
   "execution_count": 6,
   "id": "9ffc6eb0",
   "metadata": {},
   "outputs": [],
   "source": [
    "for i in df.columns:\n",
    "    if df[i].nunique() < 4:\n",
    "        df[i] = df[i].astype('category')"
   ]
  },
  {
   "cell_type": "markdown",
   "id": "3e20d95d-ca44-496a-b9e9-a84b18cedc53",
   "metadata": {},
   "source": [
    "Visualizamos la matriz de correlación de las variables de nuestro dataframe, para tener una visión global de la relación entre variables. Aunque no sea lo más adecuado para ver relaciones, debemos aplicar Label Encoder a las variables object y category."
   ]
  },
  {
   "cell_type": "code",
   "execution_count": 7,
   "id": "ee2062e2",
   "metadata": {},
   "outputs": [],
   "source": [
    "df = df.copy()"
   ]
  },
  {
   "cell_type": "code",
   "execution_count": 8,
   "id": "3105da90-ab1d-4edc-9808-6c4e0998ccf7",
   "metadata": {},
   "outputs": [],
   "source": [
    "cat_cols = df.select_dtypes(include=['object', 'category']).columns\n",
    "\n",
    "for col in cat_cols:\n",
    "    le = LabelEncoder()\n",
    "    df[col] = le.fit_transform(df[col].astype(str))"
   ]
  },
  {
   "cell_type": "code",
   "execution_count": 9,
   "id": "4e08f552",
   "metadata": {},
   "outputs": [],
   "source": [
    "correlation_matrix = df.corr()"
   ]
  },
  {
   "cell_type": "code",
   "execution_count": 10,
   "id": "64f9be4d-1a7a-45a6-be74-c78175216a8f",
   "metadata": {},
   "outputs": [
    {
     "data": {
      "image/png": "[encoded data removed]",
      "text/plain": [
       "<Figure size 640x480 with 2 Axes>"
      ]
     },
     "metadata": {},
     "output_type": "display_data"
    }
   ],
   "source": [
    "sns.heatmap(correlation_matrix, annot=False, fmt=\".2f\", cmap=\"coolwarm\", cbar=True)\n",
    "\n",
    "plt.show()"
   ]
  },
  {
   "cell_type": "markdown",
   "id": "b07e7a5d",
   "metadata": {},
   "source": [
    "### Regresión Lineal"
   ]
  },
  {
   "cell_type": "markdown",
   "id": "8e2f7dc6",
   "metadata": {},
   "source": [
    "#### Modelo Completo"
   ]
  },
  {
   "cell_type": "markdown",
   "id": "d102e38e",
   "metadata": {},
   "source": [
    "Para el primer modelo, apliquemos con todas las variables predictoras. Además, escalaremos las variables numéricas para que todas tengan la misma importancia en el modelo de regresión. Esto último es opcional pero recomendable si hay variables con diferentes rangos."
   ]
  },
  {
   "cell_type": "code",
   "execution_count": 11,
   "id": "ba100888",
   "metadata": {},
   "outputs": [],
   "source": [
    "features = df.select_dtypes(include=['number', 'object', 'category']).columns.tolist()\n",
    "\n",
    "features = [col for col in features if col != 'price']"
   ]
  },
  {
   "cell_type": "code",
   "execution_count": 12,
   "id": "39a65a27-662a-417f-9133-9af51547ac34",
   "metadata": {},
   "outputs": [],
   "source": [
    "X = df[features]  # Variables predictoras\n",
    "y = df['price']"
   ]
  },
  {
   "cell_type": "code",
   "execution_count": 13,
   "id": "9991d6db",
   "metadata": {},
   "outputs": [],
   "source": [
    "num_cols = X.select_dtypes(include='number').columns\n",
    "\n",
    "scaler = StandardScaler()\n",
    "X_scaled = X.copy()\n",
    "X_scaled[num_cols] = scaler.fit_transform(X[num_cols])"
   ]
  },
  {
   "cell_type": "code",
   "execution_count": 14,
   "id": "03aab3c6",
   "metadata": {},
   "outputs": [],
   "source": [
    "X_train, X_test, y_train, y_test = train_test_split(X_scaled, y, test_size=0.2, random_state=61)"
   ]
  },
  {
   "cell_type": "markdown",
   "id": "2a1cbf11",
   "metadata": {},
   "source": [
    "Definimos y aplicamos modelo de regresión lineal."
   ]
  },
  {
   "cell_type": "code",
   "execution_count": 15,
   "id": "5b3e58aa",
   "metadata": {},
   "outputs": [],
   "source": [
    "model = LinearRegression()"
   ]
  },
  {
   "cell_type": "code",
   "execution_count": 16,
   "id": "180be9a0",
   "metadata": {},
   "outputs": [],
   "source": [
    "model.fit(X_train, y_train)\n",
    "\n",
    "y_pred = model.predict(X_test)"
   ]
  },
  {
   "cell_type": "code",
   "execution_count": 17,
   "id": "78698542",
   "metadata": {},
   "outputs": [
    {
     "name": "stdout",
     "output_type": "stream",
     "text": [
      "R² Score: 0.7872207734424763\n",
      "RMSE: 0.010065340270744554\n"
     ]
    }
   ],
   "source": [
    "mse = mean_squared_error(y_test, y_pred)\n",
    "r2 = r2_score(y_test, y_pred)\n",
    "rmse = np.sqrt(mse)\n",
    "\n",
    "print(f'R² Score: {r2}')\n",
    "print(f'RMSE: {rmse}')"
   ]
  },
  {
   "cell_type": "markdown",
   "id": "bf5e4fe3",
   "metadata": {},
   "source": [
    "Del modelo completo obtenemos un R2 bastante aceptable y un error cuadrático que parece aún más bajo de lo que en realidad es, puesto que no debemos de olvidar que nuestra variable objetivo price se encuentra tranformada. Visualicemos como se comportan los residuos."
   ]
  },
  {
   "cell_type": "code",
   "execution_count": 18,
   "id": "0b832a06",
   "metadata": {},
   "outputs": [
    {
     "data": {
      "image/png": "[encoded data removed]",
      "text/plain": [
       "<Figure size 640x480 with 1 Axes>"
      ]
     },
     "metadata": {},
     "output_type": "display_data"
    }
   ],
   "source": [
    "residuals = y_test - y_pred\n",
    "sns.histplot(residuals, kde=True)\n",
    "plt.title(\"Distribución de los residuos\")\n",
    "plt.show()"
   ]
  },
  {
   "cell_type": "markdown",
   "id": "bfa9379b",
   "metadata": {},
   "source": [
    "Se observa que la distribución de los residuos tiene una ligera asimetría a la izquierda. Es decir, los valores por el extremo izquierdo de la distribución difieren de seguir una distribución normal, con esto, se entiende que el modelo tiene dificultades para predecir los valores de la variable objetivo price cuanto más bajos son. Esto último expuesto, lo podemos representar mediante un gráfico de dispersión predicciones vs test."
   ]
  },
  {
   "cell_type": "code",
   "execution_count": 19,
   "id": "b04659b0",
   "metadata": {},
   "outputs": [
    {
     "data": {
      "image/png": "[encoded data removed]",
      "text/plain": [
       "<Figure size 640x480 with 1 Axes>"
      ]
     },
     "metadata": {},
     "output_type": "display_data"
    }
   ],
   "source": [
    "plt.scatter(y_test, y_pred)\n",
    "plt.plot([y_test.min(), y_test.max()], [y_test.min(), y_test.max()], color = 'red', linestyle = '--')\n",
    "plt.title(\"Predicción vs Test\")\n",
    "plt.show()"
   ]
  },
  {
   "cell_type": "markdown",
   "id": "ce925a4a",
   "metadata": {},
   "source": [
    "Con este primer modelo completo inicial, veamos cuales son las variables que más importancia tienen en el modelo para predecir la variable objetivo price."
   ]
  },
  {
   "cell_type": "code",
   "execution_count": 20,
   "id": "c16acb74",
   "metadata": {},
   "outputs": [
    {
     "data": {
      "text/html": [
       "<div>\n",
       "<style scoped>\n",
       "    .dataframe tbody tr th:only-of-type {\n",
       "        vertical-align: middle;\n",
       "    }\n",
       "\n",
       "    .dataframe tbody tr th {\n",
       "        vertical-align: top;\n",
       "    }\n",
       "\n",
       "    .dataframe thead th {\n",
       "        text-align: right;\n",
       "    }\n",
       "</style>\n",
       "<table border=\"1\" class=\"dataframe\">\n",
       "  <thead>\n",
       "    <tr style=\"text-align: right;\">\n",
       "      <th></th>\n",
       "      <th>driver</th>\n",
       "      <th>rawRelaImpt</th>\n",
       "      <th>normRelaImpt</th>\n",
       "    </tr>\n",
       "  </thead>\n",
       "  <tbody>\n",
       "    <tr>\n",
       "      <th>1</th>\n",
       "      <td>Luxury</td>\n",
       "      <td>0.268421</td>\n",
       "      <td>33.685085</td>\n",
       "    </tr>\n",
       "    <tr>\n",
       "      <th>14</th>\n",
       "      <td>lat</td>\n",
       "      <td>0.131812</td>\n",
       "      <td>16.541534</td>\n",
       "    </tr>\n",
       "    <tr>\n",
       "      <th>10</th>\n",
       "      <td>sqft_living</td>\n",
       "      <td>0.123787</td>\n",
       "      <td>15.534457</td>\n",
       "    </tr>\n",
       "    <tr>\n",
       "      <th>11</th>\n",
       "      <td>sqft_above</td>\n",
       "      <td>0.103269</td>\n",
       "      <td>12.959629</td>\n",
       "    </tr>\n",
       "    <tr>\n",
       "      <th>4</th>\n",
       "      <td>bathrooms</td>\n",
       "      <td>0.043099</td>\n",
       "      <td>5.408696</td>\n",
       "    </tr>\n",
       "    <tr>\n",
       "      <th>6</th>\n",
       "      <td>view</td>\n",
       "      <td>0.039531</td>\n",
       "      <td>4.960864</td>\n",
       "    </tr>\n",
       "    <tr>\n",
       "      <th>5</th>\n",
       "      <td>basement</td>\n",
       "      <td>0.027300</td>\n",
       "      <td>3.425923</td>\n",
       "    </tr>\n",
       "    <tr>\n",
       "      <th>2</th>\n",
       "      <td>floors</td>\n",
       "      <td>0.019476</td>\n",
       "      <td>2.444112</td>\n",
       "    </tr>\n",
       "    <tr>\n",
       "      <th>9</th>\n",
       "      <td>sqft_lot</td>\n",
       "      <td>0.010422</td>\n",
       "      <td>1.307879</td>\n",
       "    </tr>\n",
       "    <tr>\n",
       "      <th>7</th>\n",
       "      <td>waterfront</td>\n",
       "      <td>0.010170</td>\n",
       "      <td>1.276215</td>\n",
       "    </tr>\n",
       "    <tr>\n",
       "      <th>12</th>\n",
       "      <td>yr_built</td>\n",
       "      <td>0.008040</td>\n",
       "      <td>1.008941</td>\n",
       "    </tr>\n",
       "    <tr>\n",
       "      <th>13</th>\n",
       "      <td>renovated</td>\n",
       "      <td>0.004982</td>\n",
       "      <td>0.625178</td>\n",
       "    </tr>\n",
       "    <tr>\n",
       "      <th>15</th>\n",
       "      <td>long</td>\n",
       "      <td>0.004084</td>\n",
       "      <td>0.512563</td>\n",
       "    </tr>\n",
       "    <tr>\n",
       "      <th>3</th>\n",
       "      <td>bedrooms</td>\n",
       "      <td>0.001069</td>\n",
       "      <td>0.134175</td>\n",
       "    </tr>\n",
       "    <tr>\n",
       "      <th>0</th>\n",
       "      <td>quarter</td>\n",
       "      <td>0.000923</td>\n",
       "      <td>0.115814</td>\n",
       "    </tr>\n",
       "    <tr>\n",
       "      <th>8</th>\n",
       "      <td>condition</td>\n",
       "      <td>0.000470</td>\n",
       "      <td>0.058935</td>\n",
       "    </tr>\n",
       "  </tbody>\n",
       "</table>\n",
       "</div>"
      ],
      "text/plain": [
       "         driver  rawRelaImpt  normRelaImpt\n",
       "1        Luxury     0.268421     33.685085\n",
       "14          lat     0.131812     16.541534\n",
       "10  sqft_living     0.123787     15.534457\n",
       "11   sqft_above     0.103269     12.959629\n",
       "4     bathrooms     0.043099      5.408696\n",
       "6          view     0.039531      4.960864\n",
       "5      basement     0.027300      3.425923\n",
       "2        floors     0.019476      2.444112\n",
       "9      sqft_lot     0.010422      1.307879\n",
       "7    waterfront     0.010170      1.276215\n",
       "12     yr_built     0.008040      1.008941\n",
       "13    renovated     0.004982      0.625178\n",
       "15         long     0.004084      0.512563\n",
       "3      bedrooms     0.001069      0.134175\n",
       "0       quarter     0.000923      0.115814\n",
       "8     condition     0.000470      0.058935"
      ]
     },
     "execution_count": 20,
     "metadata": {},
     "output_type": "execute_result"
    }
   ],
   "source": [
    "df_train = pd.DataFrame(X_train, columns=X.columns)\n",
    "df_train['price'] = y_train.values\n",
    "\n",
    "rI = relativeImp(df=df_train, outcomeName='price', driverNames=X.columns.tolist())\n",
    "\n",
    "rI_sorted = rI.sort_values(by='normRelaImpt', ascending=False)\n",
    "rI_sorted"
   ]
  },
  {
   "cell_type": "markdown",
   "id": "9c1b1ba0",
   "metadata": {},
   "source": [
    "La librería relativeImp ya tiene implementado un método para graficar estas importancias relativas de las variables, pero es poco atractivo visualmente, mejor usar un gráfico de barras."
   ]
  },
  {
   "cell_type": "code",
   "execution_count": 21,
   "id": "fb5102c1",
   "metadata": {},
   "outputs": [],
   "source": [
    "#rI.plot()"
   ]
  },
  {
   "cell_type": "code",
   "execution_count": 22,
   "id": "2d9f21d8",
   "metadata": {},
   "outputs": [
    {
     "data": {
      "image/png": "[encoded data removed]",
      "text/plain": [
       "<Figure size 640x480 with 1 Axes>"
      ]
     },
     "metadata": {},
     "output_type": "display_data"
    }
   ],
   "source": [
    "sns.barplot(data = rI_sorted, x='normRelaImpt', y='driver', hue='driver', palette='viridis', legend=False)\n",
    "\n",
    "plt.title('Importancia relativa por aportación al R²')\n",
    "plt.show()"
   ]
  },
  {
   "cell_type": "markdown",
   "id": "da6cf3d1",
   "metadata": {},
   "source": [
    "Hacemos un segundo modelo más simple con las variables que parecen predecir mejor la variable objetivo."
   ]
  },
  {
   "cell_type": "markdown",
   "id": "05f1fb50",
   "metadata": {},
   "source": [
    "#### Segundo Modelo"
   ]
  },
  {
   "cell_type": "code",
   "execution_count": 23,
   "id": "ab4229d2",
   "metadata": {},
   "outputs": [],
   "source": [
    "features1 = ['Luxury', 'view', 'sqft_living', 'sqft_above', 'lat', 'bathrooms']"
   ]
  },
  {
   "cell_type": "code",
   "execution_count": 24,
   "id": "bbd43544",
   "metadata": {},
   "outputs": [],
   "source": [
    "X = df[features1]\n",
    "y = df['price']"
   ]
  },
  {
   "cell_type": "code",
   "execution_count": 25,
   "id": "cdda7b67",
   "metadata": {},
   "outputs": [],
   "source": [
    "num_cols = X.select_dtypes(include='number').columns\n",
    "\n",
    "scaler = StandardScaler()\n",
    "X_scaled = X.copy()\n",
    "X_scaled[num_cols] = scaler.fit_transform(X[num_cols])"
   ]
  },
  {
   "cell_type": "code",
   "execution_count": 26,
   "id": "49d1a166-17c4-4791-be3a-fcf602378496",
   "metadata": {},
   "outputs": [],
   "source": [
    "X_train, X_test, y_train, y_test = train_test_split(X, y, test_size=0.2, random_state=61)"
   ]
  },
  {
   "cell_type": "code",
   "execution_count": 27,
   "id": "70c60eb7",
   "metadata": {},
   "outputs": [],
   "source": [
    "model.fit(X_train, y_train)\n",
    "\n",
    "y_pred = model.predict(X_test)"
   ]
  },
  {
   "cell_type": "code",
   "execution_count": 28,
   "id": "f7016ce5",
   "metadata": {},
   "outputs": [
    {
     "name": "stdout",
     "output_type": "stream",
     "text": [
      "R² Score: 0.7836771699642257\n",
      "RMSE: 0.010148807764658053\n"
     ]
    }
   ],
   "source": [
    "mse = mean_squared_error(y_test, y_pred)\n",
    "r2 = r2_score(y_test, y_pred)\n",
    "rmse = np.sqrt(mse)\n",
    "\n",
    "print(f'R² Score: {r2}')\n",
    "print(f'RMSE: {rmse}')"
   ]
  },
  {
   "cell_type": "markdown",
   "id": "3534bc43",
   "metadata": {},
   "source": [
    "Construimos un tercer modelo con un menor número de variables aún, buscando quedarnos con un modelo más simple sin empeorar el modelo de cara a la predicción de la variable objetivo. "
   ]
  },
  {
   "cell_type": "markdown",
   "id": "9e49bd8f",
   "metadata": {},
   "source": [
    "#### Tercer Modelo"
   ]
  },
  {
   "cell_type": "code",
   "execution_count": 29,
   "id": "05cdcf7b",
   "metadata": {},
   "outputs": [],
   "source": [
    "features2 = ['Luxury', 'sqft_living', 'sqft_above', 'lat']"
   ]
  },
  {
   "cell_type": "code",
   "execution_count": 30,
   "id": "ff84df23",
   "metadata": {},
   "outputs": [],
   "source": [
    "X = df[features2]\n",
    "y = df['price']"
   ]
  },
  {
   "cell_type": "code",
   "execution_count": 31,
   "id": "cb94b987",
   "metadata": {},
   "outputs": [],
   "source": [
    "num_cols = X.select_dtypes(include='number').columns\n",
    "\n",
    "scaler = StandardScaler()\n",
    "X_scaled = X.copy()\n",
    "X_scaled[num_cols] = scaler.fit_transform(X[num_cols])"
   ]
  },
  {
   "cell_type": "code",
   "execution_count": 32,
   "id": "463db68c",
   "metadata": {},
   "outputs": [],
   "source": [
    "X_train, X_test, y_train, y_test = train_test_split(X, y, test_size=0.2, random_state=61)"
   ]
  },
  {
   "cell_type": "code",
   "execution_count": 33,
   "id": "b2ed0f32",
   "metadata": {},
   "outputs": [],
   "source": [
    "model.fit(X_train, y_train)\n",
    "\n",
    "y_pred = model.predict(X_test)"
   ]
  },
  {
   "cell_type": "code",
   "execution_count": 34,
   "id": "f586d3bf",
   "metadata": {},
   "outputs": [
    {
     "name": "stdout",
     "output_type": "stream",
     "text": [
      "R² Score: 0.7721966367778463\n",
      "RMSE: 0.010414631648563672\n"
     ]
    }
   ],
   "source": [
    "mse = mean_squared_error(y_test, y_pred)\n",
    "r2 = r2_score(y_test, y_pred)\n",
    "rmse = np.sqrt(mse)\n",
    "\n",
    "print(f'R² Score: {r2}')\n",
    "print(f'RMSE: {rmse}')"
   ]
  },
  {
   "cell_type": "markdown",
   "id": "7aea2b6d",
   "metadata": {},
   "source": [
    "Con este último modelo, se realiza la evaluación de los distintos modelos de regresión lineal mediante validación cruzada. Se implementa una función cross_val_lin que calcula el coeficiente de determinación para varios modelos, definidos por diferentes fórmulas, y se presentan los resultados de manera clara en un DataFrame."
   ]
  },
  {
   "cell_type": "markdown",
   "id": "7490858e",
   "metadata": {},
   "source": [
    "#### Validación Cruzada"
   ]
  },
  {
   "cell_type": "markdown",
   "id": "57d8fb76",
   "metadata": {},
   "source": [
    "Implementamos la validiación cruzada para los tres modelos contemplados. Esto ayuda a estimar cómo generalizará cada modelo a datos no vistos, reduciendo el riesgo de overfitting o underfitting, para luego tener una mejor valoración final de elección de nuestro modelo."
   ]
  },
  {
   "cell_type": "code",
   "execution_count": 35,
   "id": "d8d7b30b-9750-4c25-b3fd-d038bf57b4e0",
   "metadata": {},
   "outputs": [],
   "source": [
    "def cross_val(features, df, y):\n",
    "    \n",
    "    X = df[features]\n",
    "\n",
    "    model = LinearRegression()\n",
    "    cv = RepeatedKFold(n_splits=5, n_repeats=20, random_state=61)\n",
    "\n",
    "    r2_scores = cross_val_score(model, X, y, cv=cv, scoring='r2')\n",
    "    mse_scores = cross_val_score(model, X, y, cv=cv, scoring='neg_mean_squared_error')\n",
    "    rmse_scores = np.sqrt(-mse_scores)\n",
    "\n",
    "    return {\n",
    "        'R2_mean': r2_scores.mean(),\n",
    "        'R2_std': r2_scores.std(),\n",
    "        'RMSE_mean': rmse_scores.mean()\n",
    "    }"
   ]
  },
  {
   "cell_type": "markdown",
   "id": "9da71104",
   "metadata": {},
   "source": [
    "Mediante el *RepeatedKFold*, se llevarán a cabo un total de 100 iteraciones: \n",
    "\n",
    "• 5 particiones (splits): 4 *trains* y 1 *test*, que van rotando sobre todas las combinaciones de las particiones. \n",
    "\n",
    "• 20 repeticiones (repeats): El proceso KFold se realiza 20 veces con diferentes particiones.\n",
    "\n",
    "Cada iteración generará un R², proporcionando un promedio del R² de cada modelo y una medida de la variabilidad que indica la consistencia del modelo en difrentes particiones, obteniendo así un ajuste de capacidad de generalización de cada modelo."
   ]
  },
  {
   "cell_type": "code",
   "execution_count": 36,
   "id": "8d1fce70-f15d-4fb5-aeca-eca084b92398",
   "metadata": {},
   "outputs": [
    {
     "data": {
      "text/html": [
       "<div>\n",
       "<style scoped>\n",
       "    .dataframe tbody tr th:only-of-type {\n",
       "        vertical-align: middle;\n",
       "    }\n",
       "\n",
       "    .dataframe tbody tr th {\n",
       "        vertical-align: top;\n",
       "    }\n",
       "\n",
       "    .dataframe thead th {\n",
       "        text-align: right;\n",
       "    }\n",
       "</style>\n",
       "<table border=\"1\" class=\"dataframe\">\n",
       "  <thead>\n",
       "    <tr style=\"text-align: right;\">\n",
       "      <th></th>\n",
       "      <th>R2_mean</th>\n",
       "      <th>R2_std</th>\n",
       "      <th>RMSE_mean</th>\n",
       "    </tr>\n",
       "    <tr>\n",
       "      <th>Modelo</th>\n",
       "      <th></th>\n",
       "      <th></th>\n",
       "      <th></th>\n",
       "    </tr>\n",
       "  </thead>\n",
       "  <tbody>\n",
       "    <tr>\n",
       "      <th>Modelo 1</th>\n",
       "      <td>0.793246</td>\n",
       "      <td>0.009916</td>\n",
       "      <td>0.009752</td>\n",
       "    </tr>\n",
       "    <tr>\n",
       "      <th>Modelo 2</th>\n",
       "      <td>0.786465</td>\n",
       "      <td>0.009226</td>\n",
       "      <td>0.009911</td>\n",
       "    </tr>\n",
       "    <tr>\n",
       "      <th>Modelo 3</th>\n",
       "      <td>0.775292</td>\n",
       "      <td>0.009638</td>\n",
       "      <td>0.010167</td>\n",
       "    </tr>\n",
       "  </tbody>\n",
       "</table>\n",
       "</div>"
      ],
      "text/plain": [
       "           R2_mean    R2_std  RMSE_mean\n",
       "Modelo                                 \n",
       "Modelo 1  0.793246  0.009916   0.009752\n",
       "Modelo 2  0.786465  0.009226   0.009911\n",
       "Modelo 3  0.775292  0.009638   0.010167"
      ]
     },
     "execution_count": 36,
     "metadata": {},
     "output_type": "execute_result"
    }
   ],
   "source": [
    "list_features = [features, features1, features2]\n",
    "\n",
    "cross_val = [cross_val(f, df, df['price']) for f in list_features]\n",
    "cross_val_df = pd.DataFrame(cross_val)\n",
    "cross_val_df.index = ['Modelo 1', 'Modelo 2', 'Modelo 3']\n",
    "cross_val_df.index.name = 'Modelo'\n",
    "\n",
    "cross_val_df"
   ]
  },
  {
   "cell_type": "markdown",
   "id": "9486cb34",
   "metadata": {},
   "source": [
    "Evidenciamos que los tres modelos evaluados generalizan correctamente ante nuevos datos no vistos. Debido a lo ya expuesto anteriormente, el modelo que ofrece una mejor explicabilidad sin penalizar demasiado la predicción de la variable objetivo es el modelo 2, con un coeficiente de determinación bastante bueno muy poco inferior respecto al modelo completo reduciendo dráscticamente el número de variables."
   ]
  },
  {
   "cell_type": "markdown",
   "id": "0d563ca1",
   "metadata": {},
   "source": [
    "## Autor: Alfonso Guisado González"
   ]
  },
  {
   "cell_type": "markdown",
   "id": "8e514a9d",
   "metadata": {},
   "source": []
  }
 ],
 "metadata": {
  "kernelspec": {
   "display_name": "Kernel (HousingSales Seattle)",
   "language": "python",
   "name": "env_seattlesales"
  },
  "language_info": {
   "codemirror_mode": {
    "name": "ipython",
    "version": 3
   },
   "file_extension": ".py",
   "mimetype": "text/x-python",
   "name": "python",
   "nbconvert_exporter": "python",
   "pygments_lexer": "ipython3",
   "version": "3.12.10"
  }
 },
 "nbformat": 4,
 "nbformat_minor": 5
}
